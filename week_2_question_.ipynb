{
  "cells": [
    {
      "cell_type": "markdown",
      "metadata": {
        "id": "SrsbKK83HcpW"
      },
      "source": [
        "# Q1) Write a program to calculate f(x) = sin(x) where x is in degree."
      ]
    },
    {
      "cell_type": "code",
      "source": [
        "import math\n",
        "\n",
        "def sin_degrees(x):\n",
        "\n",
        "    radians = math.radians(x)\n",
        "    return math.sin(radians)\n",
        "\n",
        "print(sin_degrees(45))"
      ],
      "metadata": {
        "id": "D22kw34erBRG",
        "colab": {
          "base_uri": "https://localhost:8080/"
        },
        "outputId": "0e7f48de-fdf4-43e4-91c2-7b4a2ab2d6ab"
      },
      "execution_count": null,
      "outputs": [
        {
          "output_type": "stream",
          "name": "stdout",
          "text": [
            "0.7071067811865475\n"
          ]
        }
      ]
    },
    {
      "cell_type": "markdown",
      "metadata": {
        "id": "7NYwdz_sYjbb"
      },
      "source": [
        "# Q2) Create a function that accepts a list of numbers and returns the sum of elements on the list. <br>For example: <br> If a list <b>[1, 3, 6, 8, 12] </b> is passed as an argument to a function, the function should return a value of <b>30</b>."
      ]
    },
    {
      "cell_type": "markdown",
      "source": [],
      "metadata": {
        "id": "HK1VM_r_picI"
      }
    },
    {
      "cell_type": "code",
      "source": [
        "while True:\n",
        "    try:\n",
        "        A = int(input(\"Enter value A: \"))\n",
        "        B = int(input(\"Enter value B: \"))\n",
        "        result = A / B\n",
        "        print(f\"{A} divided by {B} is {result}\")\n",
        "        break\n",
        "    except ValueError:\n",
        "        print(\"Invalid input. Please enter an integer value.\")\n",
        "    except ZeroDivisionError:\n",
        "        print(\"Cannot divide by zero. Please enter a non-zero value for B.\")"
      ],
      "metadata": {
        "id": "UHF8oeigpiux"
      },
      "execution_count": null,
      "outputs": []
    },
    {
      "cell_type": "code",
      "source": [
        "def sum_list(lst):\n",
        "    total = 0\n",
        "    for num in lst:\n",
        "        total += num\n",
        "    return total\n",
        "lst = [1, 3, 6, 8, 12]\n",
        "print(sum_list(lst))"
      ],
      "metadata": {
        "colab": {
          "base_uri": "https://localhost:8080/"
        },
        "id": "Hpcph5EirCxc",
        "outputId": "405fb6ba-8e23-4d67-8e2e-36a27550d72f"
      },
      "execution_count": null,
      "outputs": [
        {
          "output_type": "stream",
          "name": "stdout",
          "text": [
            "30\n"
          ]
        }
      ]
    },
    {
      "cell_type": "markdown",
      "metadata": {
        "id": "feIugB9P96nB"
      },
      "source": [
        "# Q3) Write a program to calculate the sum of digit of a number using fuction."
      ]
    },
    {
      "cell_type": "code",
      "source": [
        "def sum_of_digits(num):\n",
        "\n",
        "    sum = 0\n",
        "    while num > 0:\n",
        "        digit = num % 10\n",
        "        sum += digit\n",
        "        num = num // 10\n",
        "    return sum\n",
        "\n",
        "num = 12345\n",
        "print(sum_of_digits(num)\n"
      ],
      "metadata": {
        "colab": {
          "base_uri": "https://localhost:8080/",
          "height": 131
        },
        "id": "jM66hZIPtmqz",
        "outputId": "3b0c854b-4d85-4ffa-899b-2961e6c1ee7c"
      },
      "execution_count": null,
      "outputs": [
        {
          "output_type": "error",
          "ename": "SyntaxError",
          "evalue": "ignored",
          "traceback": [
            "\u001b[0;36m  File \u001b[0;32m\"<ipython-input-4-93e60513173b>\"\u001b[0;36m, line \u001b[0;32m11\u001b[0m\n\u001b[0;31m    print(sum_of_digits(num)\u001b[0m\n\u001b[0m                            ^\u001b[0m\n\u001b[0;31mSyntaxError\u001b[0m\u001b[0;31m:\u001b[0m unexpected EOF while parsing\n"
          ]
        }
      ]
    },
    {
      "cell_type": "markdown",
      "metadata": {
        "id": "8nK9u0n_AyfR"
      },
      "source": [
        "# Q4) Write a program to calculate the smallest divisor of a number using function.<br> for example: samllest divisor of 15 is 3."
      ]
    },
    {
      "cell_type": "code",
      "source": [
        "def smallest_divisor(n):\n",
        "  for i in range (2, n+1):\n",
        "    if n%i:\n",
        "      return i\n",
        "\n",
        "  n= int(input(\"Enter a number:\"))\n",
        "  print(smallest_divisor(n))\n"
      ],
      "metadata": {
        "id": "MvRo3OCrw39l"
      },
      "execution_count": null,
      "outputs": []
    },
    {
      "cell_type": "markdown",
      "metadata": {
        "id": "3fyloLjeDrpK"
      },
      "source": [
        "# Q5) Write a program to check a given number is perfect number or not using function.\n",
        "`A positive integer is called a perfect number if it is equal to the sum of all of its divisors, including 1 but excluding the number itself. For example, 6 = 1 + 2 + 3.`"
      ]
    },
    {
      "cell_type": "code",
      "source": [
        "num=int(input(\"Enter the number: \"))\n",
        "sum_v=0\n",
        "for i in range(1,num):\n",
        "    if (num%i==0):\n",
        "        sum_v=sum_v+i\n",
        "if(sum_v==num):\n",
        "    print(\"The entered number is a perfect number\")\n",
        "else:\n",
        "    print(\"The entered number is not a perfect number\")"
      ],
      "metadata": {
        "colab": {
          "base_uri": "https://localhost:8080/"
        },
        "id": "zvngUQHl0Cnh",
        "outputId": "7ce0dbf3-8677-49be-e9fe-f76119953d7a"
      },
      "execution_count": null,
      "outputs": [
        {
          "output_type": "stream",
          "name": "stdout",
          "text": [
            "Enter the number: 36\n",
            "The entered number is not a perfect number\n"
          ]
        }
      ]
    },
    {
      "cell_type": "markdown",
      "metadata": {
        "id": "HqJuMeid-kCh"
      },
      "source": [
        "# Q6) Write a function that takes two integers m and n as arguments and prints out an **m×n** box consisting of asterisks. for example: **rectangle(3,4)** should print following output:\n",
        "\n",
        "\n",
        "```\n",
        "* * * *\n",
        "* * * *\n",
        "* * * *\n",
        "```\n",
        "\n"
      ]
    },
    {
      "cell_type": "code",
      "source": [
        "def rectangle(m, n):\n",
        "    for i in range(m):\n",
        "        print(\"* \" * n)\n",
        "\n",
        "rectangle(3, 4)"
      ],
      "metadata": {
        "colab": {
          "base_uri": "https://localhost:8080/"
        },
        "id": "5vgMtinxrYm7",
        "outputId": "25b7256e-1c0c-4073-b90d-a55328ac697e"
      },
      "execution_count": null,
      "outputs": [
        {
          "output_type": "stream",
          "name": "stdout",
          "text": [
            "* * * * \n",
            "* * * * \n",
            "* * * * \n"
          ]
        }
      ]
    },
    {
      "cell_type": "markdown",
      "metadata": {
        "id": "jko0q2lv4Oss"
      },
      "source": [
        "# Q7) Write a python program to create a matrix of dimensions m x n without using any additional libraries and display the values."
      ]
    },
    {
      "cell_type": "code",
      "source": [
        "def create_matrix(m, n):\n",
        "    matrix = []\n",
        "    for i in range(m):\n",
        "        row = []\n",
        "        for j in range(n):\n",
        "            row.append(i * j)\n",
        "        matrix.append(row)\n",
        "    return matrix\n",
        "\n",
        "def print_matrix(matrix):\n",
        "    for row in matrix:\n",
        "        for value in row:\n",
        "            print(value, end=\"\\t\")\n",
        "        print()\n",
        "\n",
        "m = 3\n",
        "n = 4\n",
        "matrix = create_matrix(m, n)\n",
        "print_matrix(matrix)\n"
      ],
      "metadata": {
        "colab": {
          "base_uri": "https://localhost:8080/"
        },
        "id": "svoxTMoM0opW",
        "outputId": "1db4c810-64ae-43fe-b9e5-0e7f349be176"
      },
      "execution_count": null,
      "outputs": [
        {
          "output_type": "stream",
          "name": "stdout",
          "text": [
            "Enter the number of rows:3\n",
            "Enter the number of columns:3\n",
            "Enter the entries rowwise:\n",
            "2\n",
            "3\n",
            "4\n",
            "3\n",
            "7\n",
            "7\n",
            "8\n",
            "9\n",
            "9\n",
            "2 3 4 \n",
            "3 7 7 \n",
            "8 9 9 \n"
          ]
        }
      ]
    },
    {
      "cell_type": "markdown",
      "metadata": {
        "id": "r6_QKM9kFOfl"
      },
      "source": [
        "# Q8) Write a program for addition of two matrices."
      ]
    },
    {
      "cell_type": "code",
      "source": [
        "def add_matrices(mat1, mat2):\n",
        "    result = []\n",
        "    for i in range(len(mat1)):\n",
        "        row = []\n",
        "        for j in range(len(mat1[0])):\n",
        "            row.append(mat1[i][j] + mat2[i][j])\n",
        "        result.append(row)\n",
        "    return result\n",
        "\n",
        "mat1 = [[1, 2, 3], [4, 5, 6], [7, 8, 9]]\n",
        "mat2 = [[9, 8, 7], [6, 5, 4], [3, 2, 1]]\n",
        "result = add_matrices(mat1, mat2)\n",
        "print(result)\n"
      ],
      "metadata": {
        "colab": {
          "base_uri": "https://localhost:8080/"
        },
        "id": "Tk7m8h03rngX",
        "outputId": "da354209-8bcb-49f1-8603-28ee2124a8ac"
      },
      "execution_count": null,
      "outputs": [
        {
          "output_type": "stream",
          "name": "stdout",
          "text": [
            "[[10, 10, 10], [10, 10, 10], [10, 10, 10]]\n"
          ]
        }
      ]
    },
    {
      "cell_type": "markdown",
      "metadata": {
        "id": "5Y857GHhGUW4"
      },
      "source": [
        "\n",
        "# Q9) Write a program to identify the given matrix is diagonal matrix or not."
      ]
    },
    {
      "cell_type": "code",
      "source": [
        "5\n",
        "row_size=int(input(\"Enter the row Size Of the Matrix:\"))\n",
        "col_size=int(input(\"Enter the columns Size Of the Matrix:\"))\n",
        "matrix=[]\n",
        "print(\"Enter the Matrix Element:\")\n",
        "for i in range(row_size):\n",
        "    matrix.append([int(j) for j in input().split()])\n",
        "point=0\n",
        "for i in range(len(matrix)):\n",
        "    for j in range(len(matrix[0])):\n",
        "        if i!=j and matrix[i][j]!=0:\n",
        "            point=1\n",
        "            break\n",
        "if point==1:\n",
        "    print(\"Given Matrix is not a diagonal Matrix.\")\n",
        "else:\n",
        "    print(\"Given Matrix is a diagonal Matrix.\")\n",
        ""
      ],
      "metadata": {
        "colab": {
          "base_uri": "https://localhost:8080/"
        },
        "id": "_MBdWorP3n2r",
        "outputId": "ca2bb0e7-812a-4437-e4b9-beedabea4ab6"
      },
      "execution_count": null,
      "outputs": [
        {
          "output_type": "stream",
          "name": "stdout",
          "text": [
            "Enter the row Size Of the Matrix:3\n",
            "Enter the columns Size Of the Matrix:3\n",
            "Enter the Matrix Element:\n",
            "2\n",
            "3\n",
            "4\n",
            "Given Matrix is not a diagonal Matrix.\n"
          ]
        }
      ]
    },
    {
      "cell_type": "markdown",
      "source": [
        "# Q10) Write a program to calculate trace of a matrix"
      ],
      "metadata": {
        "id": "7DMS2pBY4CrS"
      }
    },
    {
      "cell_type": "code",
      "source": [
        "def trace(matrix):\n",
        "    if not all(len(row) == len(matrix) for row in matrix):\n",
        "        raise ValueError('Matrix is not square')\n",
        "    result = 0\n",
        "    for i in range(len(matrix)):\n",
        "        result += matrix[i][i]\n",
        "    return result\n",
        "\n",
        "matrix = [[1, 2, 3], [4, 5, 6], [7, 8, 9]]\n",
        "result = trace(matrix)\n",
        "print(result)\n"
      ],
      "metadata": {
        "colab": {
          "base_uri": "https://localhost:8080/"
        },
        "id": "BPa9QOdU4IXq",
        "outputId": "aa8bf91d-ab73-45ea-f71d-d67f53355acf"
      },
      "execution_count": null,
      "outputs": [
        {
          "output_type": "stream",
          "name": "stdout",
          "text": [
            "15\n"
          ]
        }
      ]
    },
    {
      "cell_type": "markdown",
      "source": [
        "question 1\n"
      ],
      "metadata": {
        "id": "dngE-Hhhpl4R"
      }
    },
    {
      "cell_type": "code",
      "source": [
        "while True:\n",
        "    try:\n",
        "        A = int(input(\"Enter value A: \"))\n",
        "        B = int(input(\"Enter value B: \"))\n",
        "        result = A / B\n",
        "        print(f\"{A} divided by {B} is {result}\")\n",
        "        break\n",
        "    except ValueError:\n",
        "        print(\"Invalid input. Please enter an integer value.\")\n",
        "    except ZeroDivisionError:\n",
        "        print(\"Cannot divide by zero. Please enter a non-zero value for B.\")"
      ],
      "metadata": {
        "id": "YQAV0uD9pw0G"
      },
      "execution_count": null,
      "outputs": []
    }
  ],
  "metadata": {
    "colab": {
      "provenance": []
    },
    "kernelspec": {
      "display_name": "Python 3",
      "name": "python3"
    },
    "language_info": {
      "name": "python"
    }
  },
  "nbformat": 4,
  "nbformat_minor": 0
}